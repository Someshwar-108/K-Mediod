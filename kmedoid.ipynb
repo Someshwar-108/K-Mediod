{
  "nbformat": 4,
  "nbformat_minor": 0,
  "metadata": {
    "colab": {
      "name": "kmedoid",
      "provenance": []
    },
    "kernelspec": {
      "name": "python3",
      "display_name": "Python 3"
    },
    "language_info": {
      "name": "python"
    }
  },
  "cells": [
    {
      "cell_type": "code",
      "source": [
        "!pip install scikit-learn-extra"
      ],
      "metadata": {
        "colab": {
          "base_uri": "https://localhost:8080/"
        },
        "id": "k_UhO0E8j8_v",
        "outputId": "c1faec2f-062a-4877-820e-dabc4c87a814"
      },
      "execution_count": 2,
      "outputs": [
        {
          "output_type": "stream",
          "name": "stdout",
          "text": [
            "Collecting scikit-learn-extra\n",
            "  Downloading scikit_learn_extra-0.2.0-cp37-cp37m-manylinux2010_x86_64.whl (1.7 MB)\n",
            "\u001b[K     |████████████████████████████████| 1.7 MB 4.4 MB/s \n",
            "\u001b[?25hRequirement already satisfied: scikit-learn>=0.23.0 in /usr/local/lib/python3.7/dist-packages (from scikit-learn-extra) (1.0.2)\n",
            "Requirement already satisfied: scipy>=0.19.1 in /usr/local/lib/python3.7/dist-packages (from scikit-learn-extra) (1.4.1)\n",
            "Requirement already satisfied: numpy>=1.13.3 in /usr/local/lib/python3.7/dist-packages (from scikit-learn-extra) (1.19.5)\n",
            "Requirement already satisfied: threadpoolctl>=2.0.0 in /usr/local/lib/python3.7/dist-packages (from scikit-learn>=0.23.0->scikit-learn-extra) (3.1.0)\n",
            "Requirement already satisfied: joblib>=0.11 in /usr/local/lib/python3.7/dist-packages (from scikit-learn>=0.23.0->scikit-learn-extra) (1.1.0)\n",
            "Installing collected packages: scikit-learn-extra\n",
            "Successfully installed scikit-learn-extra-0.2.0\n"
          ]
        }
      ]
    },
    {
      "cell_type": "code",
      "execution_count": 21,
      "metadata": {
        "id": "1J7EXsSEj6j0"
      },
      "outputs": [],
      "source": [
        "import numpy as np \n",
        "import matplotlib.pyplot as plt\n",
        "import pandas as pd\n",
        "from sklearn.cluster import KMeans\n",
        "from sklearn_extra.cluster import KMedoids\n",
        "\n"
      ]
    },
    {
      "cell_type": "code",
      "source": [
        "from sklearn import datasets \n",
        "myiris = datasets.load_iris()\n",
        "\n",
        "x = myiris.data\n",
        "\n",
        "y = myiris.target"
      ],
      "metadata": {
        "id": "vgekLIvXkGGu"
      },
      "execution_count": 22,
      "outputs": []
    },
    {
      "cell_type": "code",
      "source": [
        "x"
      ],
      "metadata": {
        "id": "Pw9kOeCmntKn"
      },
      "execution_count": null,
      "outputs": []
    },
    {
      "cell_type": "code",
      "source": [
        "x.shape"
      ],
      "metadata": {
        "colab": {
          "base_uri": "https://localhost:8080/"
        },
        "id": "lahVGDaGksR8",
        "outputId": "2c5875fb-2f59-482f-80c3-6c56067cd2eb"
      },
      "execution_count": 24,
      "outputs": [
        {
          "output_type": "execute_result",
          "data": {
            "text/plain": [
              "(150, 4)"
            ]
          },
          "metadata": {},
          "execution_count": 24
        }
      ]
    },
    {
      "cell_type": "code",
      "source": [
        "Error = []\n",
        "for i in range(1, 11):\n",
        "    kmedoid = KMedoids(n_clusters = i).fit(x)\n",
        "    kmedoid.fit(x)\n",
        "    Error.append(kmedoid.inertia_)\n",
        "\n",
        "import matplotlib.pyplot as plt \n",
        "plt.plot(range (1, 11), Error)\n",
        "plt.title('Elbow method')#used to find the optimal value of no of clusters\n",
        "plt.xlabel('No of clusters')\n",
        "plt.ylabel('Error')\n",
        "plt.show()"
      ],
      "metadata": {
        "colab": {
          "base_uri": "https://localhost:8080/",
          "height": 295
        },
        "id": "5b3CQhwXoAuz",
        "outputId": "4087f8c8-21d0-4daf-db53-cc1ac83ac509"
      },
      "execution_count": 26,
      "outputs": [
        {
          "output_type": "display_data",
          "data": {
            "image/png": "[encoded data removed]",
            "text/plain": [
              "<Figure size 432x288 with 1 Axes>"
            ]
          },
          "metadata": {
            "needs_background": "light"
          }
        }
      ]
    },
    {
      "cell_type": "code",
      "source": [
        "from sklearn.preprocessing import StandardScaler\n",
        "\n",
        "scaler = StandardScaler ().fit(x)\n",
        "\n",
        "x_scaled = scaler.transform(x)\n",
        "\n",
        "kMedoids = KMedoids (n_clusters = 3, random_state = 0)\n",
        "\n",
        "k=kMedoids.fit(x_scaled)\n",
        "\n",
        "y_kmed =k.fit_predict(x_scaled)"
      ],
      "metadata": {
        "id": "P3IHXgavkvjf"
      },
      "execution_count": 27,
      "outputs": []
    },
    {
      "cell_type": "code",
      "source": [
        "centroid=k.cluster_centers_"
      ],
      "metadata": {
        "id": "lstFQv0lk55c"
      },
      "execution_count": 28,
      "outputs": []
    },
    {
      "cell_type": "code",
      "source": [
        "plt.scatter(x_scaled [y_kmed == 0, 0], x_scaled [y_kmed == 0, 1], s = 108, c=\"red\", label = \"C1\") \n",
        "plt.scatter (x_scaled [y_kmed == 1, 0], x_scaled[y_kmed == 1, 1], s = 100, c = 'blue', label = \"C2\") \n",
        "plt.scatter(x_scaled[y_kmed == 2, 0], x_scaled [y_kmed == 2, 1], s = 100, c = 'green', label = \"C3\")\n",
        "\n",
        "plt.scatter(centroid[:, 0], centroid[:,1], s = 200, c=\"yellow\", label ='Centroids') \n",
        "plt.legend()"
      ],
      "metadata": {
        "colab": {
          "base_uri": "https://localhost:8080/",
          "height": 282
        },
        "id": "NE960MrflIRb",
        "outputId": "b3ae5ecb-3b3e-4c07-e253-3176f5e20311"
      },
      "execution_count": 29,
      "outputs": [
        {
          "output_type": "execute_result",
          "data": {
            "text/plain": [
              "<matplotlib.legend.Legend at 0x7f0635862390>"
            ]
          },
          "metadata": {},
          "execution_count": 29
        },
        {
          "output_type": "display_data",
          "data": {
            "image/png": "[encoded data removed]",
            "text/plain": [
              "<Figure size 432x288 with 1 Axes>"
            ]
          },
          "metadata": {
            "needs_background": "light"
          }
        }
      ]
    },
    {
      "cell_type": "code",
      "source": [
        ""
      ],
      "metadata": {
        "id": "951oYBjymL-u"
      },
      "execution_count": null,
      "outputs": []
    },
    {
      "cell_type": "markdown",
      "source": [
        "\n",
        "K means is quite fast and less expensive than k medoid. \n",
        " K -means attempts to minimize the total squared error, while k -medoids minimizes the sum of dissimilarities between points labeled to be in a cluster and a point designated as the center of that cluster. In contrast to the k-means algorithm, k-medoids chooses datapoints as centers bold text"
      ],
      "metadata": {
        "id": "fciHPU10pAqz"
      }
    },
    {
      "cell_type": "code",
      "source": [
        ""
      ],
      "metadata": {
        "id": "YfvvUL8NpT-c"
      },
      "execution_count": null,
      "outputs": []
    }
  ]
}